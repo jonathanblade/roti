{
  "cells": [
    {
      "cell_type": "code",
      "execution_count": null,
      "metadata": {
        "id": "cd5o8JGhC7yE"
      },
      "outputs": [],
      "source": [
        "!rm -rf /content/roti/\n",
        "!git clone https://github.com/jonathanblade/roti.git\n",
        "!unzip /content/roti/data.zip -d /content/roti/\n",
        "!uncompress /content/roti/data/*.Z\n",
        "!python3 -m unittest /content/roti/src/tests/test_utils.py"
      ]
    },
    {
      "cell_type": "code",
      "execution_count": 2,
      "metadata": {
        "id": "CcX7KAknGRg8"
      },
      "outputs": [],
      "source": [
        "import sys\n",
        "sys.path.append('/content/roti/')\n",
        "\n",
        "from datetime import datetime\n",
        "from sklearn.preprocessing import MinMaxScaler\n",
        "from tensorflow.keras.preprocessing.sequence import TimeseriesGenerator\n",
        "\n",
        "from src.model import build_model, train\n",
        "from src.utils import load_data, plot_roti"
      ]
    },
    {
      "cell_type": "markdown",
      "metadata": {
        "id": "Ytud0bVZgjMz"
      },
      "source": [
        "## Consts"
      ]
    },
    {
      "cell_type": "code",
      "execution_count": 8,
      "metadata": {
        "id": "gBxDSfAggliP"
      },
      "outputs": [],
      "source": [
        "look_back = 3\n",
        "epochs = 30\n",
        "roti_heigth = 20\n",
        "roti_width = 180\n",
        "roti_channels = 1\n",
        "start_date = datetime(2010, 1, 1)\n",
        "end_date = datetime(2010, 1, 31)"
      ]
    },
    {
      "cell_type": "markdown",
      "metadata": {
        "id": "RPzILL6Rf1aZ"
      },
      "source": [
        "## Dataset"
      ]
    },
    {
      "cell_type": "code",
      "execution_count": 9,
      "metadata": {
        "id": "p6xrqkgTf-mI"
      },
      "outputs": [],
      "source": [
        "data = load_data(start_date, end_date)\n",
        "roti = list(data[\"ROTI\"].values)\n",
        "\n",
        "train_generator = TimeseriesGenerator(roti, roti, length=look_back, batch_size=1)"
      ]
    },
    {
      "cell_type": "markdown",
      "metadata": {
        "id": "PxY3kugQgOP7"
      },
      "source": [
        "## Model training"
      ]
    },
    {
      "cell_type": "code",
      "execution_count": null,
      "metadata": {
        "id": "mlyKBYLHPjP2"
      },
      "outputs": [],
      "source": [
        "model = build_model((look_back, roti_heigth, roti_width, roti_channels))\n",
        "train(model, train_generator, epochs)"
      ]
    }
  ],
  "metadata": {
    "accelerator": "GPU",
    "colab": {
      "collapsed_sections": [],
      "name": "ROTI.ipynb",
      "provenance": []
    },
    "kernelspec": {
      "display_name": "Python 3",
      "name": "python3"
    },
    "language_info": {
      "name": "python"
    }
  },
  "nbformat": 4,
  "nbformat_minor": 0
}
